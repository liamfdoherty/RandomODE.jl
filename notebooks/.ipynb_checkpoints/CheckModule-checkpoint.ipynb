{
 "cells": [
  {
   "cell_type": "code",
   "execution_count": null,
   "metadata": {},
   "outputs": [],
   "source": [
    "using Random; Random.seed!(1)\n",
    "using Plots; theme(:gruvbox_dark) # so my eyes don't get seared while working on this at night :)\n",
    "using LinearAlgebra\n",
    "using Dierckx\n",
    "using Revise\n",
    "using RandomODE"
   ]
  },
  {
   "cell_type": "markdown",
   "metadata": {},
   "source": [
    "# Testing the Package\n",
    "\n",
    "First, we check that the module can correctly create the problem data structure, assemble the linear system to solve the problem, and run the solution of an ensemble of problems correctly:"
   ]
  },
  {
   "cell_type": "code",
   "execution_count": null,
   "metadata": {},
   "outputs": [],
   "source": [
    "a = 0; b = 1\n",
    "nₓ = 100\n",
    "m(x) = x; σ = 1.; s = 2.\n",
    "left_bc = DirichletBC(0.); right_bc = DirichletBC(0.)\n",
    "f(x) = exp(-x)"
   ]
  },
  {
   "cell_type": "code",
   "execution_count": null,
   "metadata": {},
   "outputs": [],
   "source": [
    "problem = RandomODEProblem(a, b, nₓ, m, σ, s, left_bc, right_bc, f);"
   ]
  },
  {
   "cell_type": "code",
   "execution_count": null,
   "metadata": {},
   "outputs": [],
   "source": [
    "plot(problem.x, problem.m, label = \"Mean of Normal Samples\", title = \"Mean and Right Hand Side Functions\")\n",
    "plot!(problem.x, problem.rhs, label = \"f(x)\")"
   ]
  },
  {
   "cell_type": "code",
   "execution_count": null,
   "metadata": {},
   "outputs": [],
   "source": [
    "potential = sample_field(problem);\n",
    "problem.V = potential;"
   ]
  },
  {
   "cell_type": "code",
   "execution_count": null,
   "metadata": {},
   "outputs": [],
   "source": [
    "plot(problem.x, problem.V, title = \"Random Field Sample\", label = \"V(x)\")"
   ]
  },
  {
   "cell_type": "code",
   "execution_count": null,
   "metadata": {},
   "outputs": [],
   "source": [
    "assemble_system!(problem);\n",
    "println(\"LHS matrix: $(problem.A)\")"
   ]
  },
  {
   "cell_type": "code",
   "execution_count": null,
   "metadata": {},
   "outputs": [],
   "source": [
    "solve!(problem);\n",
    "plot(problem.x, problem.u, title = \"Computed Solution\", label = \"u(x)\")"
   ]
  },
  {
   "cell_type": "markdown",
   "metadata": {},
   "source": [
    "Now we check an ensemble of problems:"
   ]
  },
  {
   "cell_type": "code",
   "execution_count": null,
   "metadata": {},
   "outputs": [],
   "source": [
    "Random.seed!(1)\n",
    "num_problems = 10; problems = []\n",
    "potentials = []\n",
    "for prob in 1:num_problems\n",
    "    problem = RandomODEProblem(a, b, nₓ, m, σ, s, left_bc, right_bc, f)\n",
    "    potential = sample_field(problem)\n",
    "    problem.V = potential; push!(potentials, potential)\n",
    "    push!(problems, problem)\n",
    "end\n",
    "potentials_plt = plot(problems[1].x, potentials[1], title = \"Potentials\", label = \"V[1]\", legend = :outertopright)\n",
    "for (i, potential) in enumerate(potentials)\n",
    "    plot!(problems[i].x, potential, label = \"V[$(i)]\")\n",
    "end\n",
    "display(potentials_plt)\n",
    "\n",
    "solve_ensemble!(problems)\n",
    "solutions_plt = plot(problems[1].x, problems[1].u, title = \"Solutions\", label = \"U[1]\", legend = :outertopright)\n",
    "for (i, problem) in enumerate(problems)\n",
    "    plot!(problems[i].x, problems[i].u, label = \"U[$(i)]\")\n",
    "end\n",
    "display(solutions_plt)"
   ]
  },
  {
   "cell_type": "markdown",
   "metadata": {},
   "source": [
    "# Assessment of Convergence"
   ]
  },
  {
   "cell_type": "code",
   "execution_count": null,
   "metadata": {},
   "outputs": [],
   "source": [
    "Random.seed!(1)\n",
    "a = 0; b = 1\n",
    "nₓ_high = 10000\n",
    "m(x) = x; σ = 1.; s = 2.\n",
    "left_bc = DirichletBC(0.); right_bc = DirichletBC(0.)\n",
    "f(x) = exp(-x)\n",
    "V(x) = cos(4*π*x)^2\n",
    "\n",
    "high_res_problem = RandomODEProblem(a, b, nₓ_high, m, σ, s, left_bc, right_bc, f, potential = V);\n",
    "assemble_system!(high_res_problem)\n",
    "solve!(high_res_problem)\n",
    "high_res_spline = Spline1D(high_res_problem.x, high_res_problem.u, k = 1)\n",
    "\n",
    "nₓ_vals = 100:100:1000\n",
    "Δx_vals = [(b - a)/(nₓ + 1) for nₓ in nₓ_vals]\n",
    "errors = []\n",
    "for nₓ in nₓ_vals\n",
    "    low_res_problem = RandomODEProblem(a, b, nₓ, m, σ, s, left_bc, right_bc, f, potential = V)\n",
    "    assemble_system!(low_res_problem)\n",
    "    solve!(low_res_problem)\n",
    "    error = norm(low_res_problem.u .- high_res_spline.(low_res_problem.x), Inf)\n",
    "    push!(errors, error)\n",
    "end\n",
    "\n",
    "scatter(Δx_vals, errors, label = \"Infinity norm error\", \n",
    "        title = \"Rate of Convergence\", xscale = :log10, yscale = :log10, legend = :outertopright)\n",
    "xlabel!(\"Δx\"); ylabel!(\"Error\")\n",
    "plot!(Δx_vals, Δx_vals.^2, label = \"Quadratic in Δx\")"
   ]
  },
  {
   "cell_type": "markdown",
   "metadata": {},
   "source": [
    "This clearly displays quadratic convergence in the step size $\\Delta x$ for the deterministic problem. This means, that since the convergence rate of Monte Carlo is $\\mathcal{O}(M^{-\\frac{1}{2}})$, the optimal scaling rate for the mesh is to have $\\newline \\newline$\n",
    "$$\n",
    "\\Delta x^{2} \\propto M^{-\\frac{1}{2}},\n",
    "\\newline\n",
    "$$\n",
    "or equivalently, $\\newline \\newline$\n",
    "$$\n",
    "M \\propto \\Big(\\frac{1}{\\Delta x}\\Big)^{4}.\n",
    "\\newline\n",
    "$$\n",
    "\n",
    "Now, we show that there is convergence to a limiting mean as $\\sigma \\to 0$ and assess convergence with the random potential:"
   ]
  },
  {
   "cell_type": "code",
   "execution_count": null,
   "metadata": {},
   "outputs": [],
   "source": [
    "a = 0; b = 1\n",
    "nₓ = 100\n",
    "m(x) = x; σ_vals = [1., 0.1, 0.01]\n",
    "left_bc = DirichletBC(0.); right_bc = DirichletBC(0.)\n",
    "f(x) = exp(-x)\n",
    "\n",
    "num_problems = 1e4\n",
    "first_moments = []; second_moments = []\n",
    "\n",
    "function run_ensemble(s)\n",
    "    histogram_plots = []; means_plots = []\n",
    "    for σ in σ_vals\n",
    "        problems = []\n",
    "\n",
    "        # Solve the 10^4 samples with given σ\n",
    "        for i in 1:num_problems\n",
    "            problem = RandomODEProblem(a, b, nₓ, m, σ, s, left_bc, right_bc, f)\n",
    "            potential = sample_field(problem)\n",
    "            problem.V = potential\n",
    "            push!(problems, problem)\n",
    "        end\n",
    "        solve_ensemble!(problems)\n",
    "\n",
    "        # Compute first and second moments\n",
    "        first_moment = zeros(nₓ); second_moment = zeros(nₓ)\n",
    "        for problem in problems\n",
    "            first_moment += problem.u\n",
    "            second_moment += (problem.u).^2\n",
    "        end\n",
    "        first_moment /= num_problems; second_moment /= num_problems\n",
    "        push!(first_moments, first_moment); push!(second_moments, second_moment)\n",
    "\n",
    "        # Histogram midpoint values\n",
    "        midpoint_vals = []\n",
    "        for problem in problems\n",
    "            problem_spl = Spline1D(problem.x, problem.u, k = 1)\n",
    "            push!(midpoint_vals, problem_spl(0.5))\n",
    "        end\n",
    "        push!(histogram_plots,\n",
    "            histogram(midpoint_vals, title = \"Midpoint values with σ = $(σ)\", label = \"u(0.5)\"))\n",
    "        \n",
    "        # Plot mean functions with one standard deviation ribbon\n",
    "        stddev = @. √(second_moment - first_moment^2)\n",
    "        means = plot(problems[1].x, first_moment, ribbon=stddev,\n",
    "                    title = \"Mean with One Standard Deviation; σ = $(σ)\", label = \"Mean\")\n",
    "        push!(means_plots, means)\n",
    "    end\n",
    "\n",
    "    # Print maximum pointwise variances\n",
    "    for (i, σ) in enumerate(σ_vals)\n",
    "        println(\"Maximum variance of solutions with σ = $(σ):\n",
    "                $(maximum(second_moments[i] .- first_moments[i].^2))\")\n",
    "    end\n",
    "    \n",
    "    # Plot histograms and mean plots\n",
    "    hists_plot = plot(histogram_plots[1], histogram_plots[2], histogram_plots[3], layout = (3, 1))\n",
    "    display(hists_plot)\n",
    "    means_plot = plot(means_plots[1], means_plots[2], means_plots[3], layout = (3, 1))\n",
    "    display(means_plot)\n",
    "end\n",
    "\n",
    "Random.seed!(1)\n",
    "run_ensemble(2.)"
   ]
  },
  {
   "cell_type": "markdown",
   "metadata": {},
   "source": [
    "It is clear from this output that the maximum pointwise variances are shrinking as $\\sigma \\to 0$. Therefore, we are converging to a limiting mean. Furthermore, we can look at the histograms of the values at the midpoint, and it is clear that there is convergence to a limiting mean; the tails of the histogram are getting visibly tighter at each smaller value of $\\sigma$. Now we repeat the above with $s = 4$:"
   ]
  },
  {
   "cell_type": "code",
   "execution_count": null,
   "metadata": {},
   "outputs": [],
   "source": [
    "a = 0; b = 1\n",
    "nₓ = 100\n",
    "m(x) = x; σ_vals = [1., 0.1, 0.01]\n",
    "left_bc = DirichletBC(0.); right_bc = DirichletBC(0.)\n",
    "f(x) = exp(-x)\n",
    "\n",
    "num_problems = 1e4\n",
    "first_moments = []; second_moments = []\n",
    "\n",
    "Random.seed!(1)\n",
    "run_ensemble(4.)"
   ]
  },
  {
   "cell_type": "markdown",
   "metadata": {},
   "source": [
    "With $s = 4$, the primary difference from the case where $s = 2$ is the smaller variance in solutions. The variance is about an order of magnitude smaller for any particular value of $\\sigma$. This is because the higher value of $s$ guarantees a higher degree of smoothness in the potential $V$."
   ]
  }
 ],
 "metadata": {
  "kernelspec": {
   "display_name": "Julia 16 Threads 1.6.0",
   "language": "julia",
   "name": "julia-16-threads-1.6"
  },
  "language_info": {
   "file_extension": ".jl",
   "mimetype": "application/julia",
   "name": "julia",
   "version": "1.6.0"
  }
 },
 "nbformat": 4,
 "nbformat_minor": 2
}
