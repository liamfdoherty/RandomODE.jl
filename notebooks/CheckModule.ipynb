{
 "cells": [
  {
   "cell_type": "code",
   "execution_count": null,
   "metadata": {},
   "outputs": [],
   "source": [
    "using Random\n",
    "using Plots\n",
    "using Revise\n",
    "using RandomODE\n",
    "\n",
    "Random.seed!(100);"
   ]
  },
  {
   "cell_type": "code",
   "execution_count": null,
   "metadata": {},
   "outputs": [],
   "source": [
    "a = 0; b = 1\n",
    "nₓ = 100\n",
    "m(x) = x\n",
    "σ = 1\n",
    "s = 2\n",
    "V(x) = cos(4*π*x)^2\n",
    "left_bc = DirichletBC(0); right_bc = DirichletBC(0)\n",
    "f(x) = exp(-x)"
   ]
  },
  {
   "cell_type": "code",
   "execution_count": null,
   "metadata": {},
   "outputs": [],
   "source": [
    "problem = RandomODEProblem(a, b, nₓ, m, σ, s, left_bc, right_bc, f, potential = V);\n",
    "println(\"x vector: $(problem.x)\")\n",
    "println(\"LHS Matrix: $(problem.A)\")"
   ]
  },
  {
   "cell_type": "code",
   "execution_count": null,
   "metadata": {},
   "outputs": [],
   "source": [
    "plot(problem.x, problem.m, label = \"mean\")\n",
    "plot!(problem.x, problem.rhs, label = \"rhs\")"
   ]
  },
  {
   "cell_type": "code",
   "execution_count": null,
   "metadata": {},
   "outputs": [],
   "source": [
    "plot(problem.x, problem.V)"
   ]
  },
  {
   "cell_type": "code",
   "execution_count": null,
   "metadata": {},
   "outputs": [],
   "source": [
    "potential = sample_field(problem);\n",
    "problem.V = potential;"
   ]
  },
  {
   "cell_type": "code",
   "execution_count": null,
   "metadata": {},
   "outputs": [],
   "source": [
    "plot(problem.x, problem.V)"
   ]
  },
  {
   "cell_type": "code",
   "execution_count": null,
   "metadata": {},
   "outputs": [],
   "source": [
    "assemble_system!(problem);\n",
    "println(\"LHS matrix: $(problem.A)\")"
   ]
  },
  {
   "cell_type": "code",
   "execution_count": null,
   "metadata": {},
   "outputs": [],
   "source": [
    "solve!(problem);\n",
    "problem.u"
   ]
  },
  {
   "cell_type": "code",
   "execution_count": null,
   "metadata": {},
   "outputs": [],
   "source": []
  }
 ],
 "metadata": {
  "kernelspec": {
   "display_name": "Julia 1.6.0",
   "language": "julia",
   "name": "julia-1.6"
  },
  "language_info": {
   "file_extension": ".jl",
   "mimetype": "application/julia",
   "name": "julia",
   "version": "1.6.0"
  }
 },
 "nbformat": 4,
 "nbformat_minor": 2
}
